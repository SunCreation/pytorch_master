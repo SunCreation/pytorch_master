{
 "cells": [
  {
   "cell_type": "markdown",
   "metadata": {},
   "source": [
    "## 3.1 선형회귀"
   ]
  },
  {
   "cell_type": "markdown",
   "metadata": {},
   "source": [
    "1. 데이터 전처리, ** 중요 딥러닝 모델의 입력 shape와 출력 shape를 확인\n",
    "2. 데이터셋 클래스 작성\n",
    "3. 데이터셋 인스턴스를 활용해서 데이터 로더 할당\n",
    "4. 딥러닝 모델 작성\n",
    "5. 순전파 함수를 정의\n",
    "6. 손실함수 정의\n",
    "7. 최적화 기법 설정\n",
    "8. 하이퍼 파라미터를 설정\n",
    "9. 학습, 검증 시행\n",
    "10. 테스트 데이터로 추론"
   ]
  },
  {
   "cell_type": "markdown",
   "metadata": {},
   "source": [
    "## 옵티마이저 "
   ]
  },
  {
   "cell_type": "markdown",
   "metadata": {},
   "source": [
    "## 손실함수"
   ]
  },
  {
   "cell_type": "markdown",
   "metadata": {},
   "source": [
    "## 선형회귀"
   ]
  },
  {
   "cell_type": "markdown",
   "metadata": {},
   "source": [
    "## 지도학습 모델의 학습 순서  "
   ]
  },
  {
   "cell_type": "markdown",
   "metadata": {},
   "source": [
    "1) 옵티마이저의 그래디언트를 0으로 \n",
    "2) 데이터를 모델에 넣어서 값을 예측한다.\n",
    "3) 정답 데이터와 예측값을 통해 손실함수를 계산한다.\n",
    "4) 지농미분함수인 .backward()를 이용해 그래디언트를 계산한다.\n",
    "5) 옵티마이저의 step()함수를 호출한다."
   ]
  },
  {
   "cell_type": "markdown",
   "metadata": {},
   "source": [
    "# 퀴즈 (Easy)  \n",
    "위 모델은 y = 2x + 3 으로 학습되지 않았습니다.  \n",
    "이를 개선하기 위해서는 하이퍼 파라미터를 조정해야 합니다.  \n",
    "1) 위 선형회귀모델에서 하이퍼파라미터의 종류는 뭐가 있을까요?  \n",
    "2) 하이퍼파라미터를 조정해서 모델의 가중치와 편향이 정답에 가깝도록 학습시켜보세요"
   ]
  },
  {
   "cell_type": "markdown",
   "metadata": {},
   "source": [
    "## 3.2 다중선형회귀"
   ]
  },
  {
   "cell_type": "markdown",
   "metadata": {},
   "source": [
    "$${y = w_1 x_1 + w_2 x_2 + w_3 x_3 + b}$$"
   ]
  },
  {
   "cell_type": "markdown",
   "metadata": {},
   "source": [
    "# 퀴즈 (Easy)  \n",
    "1) 하이퍼파라미터를 조정해서 모델의 가중치와 편향이 정답에 가깝도록 학습시켜보세요"
   ]
  },
  {
   "cell_type": "markdown",
   "metadata": {},
   "source": [
    "## 3.3 로지스틱 회귀"
   ]
  },
  {
   "cell_type": "markdown",
   "metadata": {},
   "source": [
    "## 3.4 클래스를 통한 회귀 모델 구현"
   ]
  },
  {
   "cell_type": "markdown",
   "metadata": {},
   "source": [
    "생성자\n"
   ]
  },
  {
   "cell_type": "code",
   "execution_count": null,
   "metadata": {},
   "outputs": [],
   "source": []
  },
  {
   "cell_type": "markdown",
   "metadata": {},
   "source": [
    "## 퀴즈 (Normal)  \n",
    "위 세 가지 모델을 구현했으면 또 반복문을 통해 학습시켜야 합니다.  \n",
    "이는 귀찮은 과정이니 함수 형태로 만들어서 코드의 반복을 줄여봅시다.  \n",
    "텐서플로우에서 사용했던 fit 함수를 직접 만들어봅시다.  \n",
    "fit() 함수는 model, optimizer, loss_func, x_train, y_train, epochs를 입력으로 받습니다.  \n",
    "위에서 수행한 반복문을 함수형태로 만들어서 세 가지 회귀모델에 적용할 것입니다.  "
   ]
  },
  {
   "cell_type": "markdown",
   "metadata": {},
   "source": [
    "## Softmax 회귀  \n",
    "https://wikidocs.net/60575"
   ]
  },
  {
   "cell_type": "code",
   "execution_count": null,
   "metadata": {},
   "outputs": [],
   "source": []
  }
 ],
 "metadata": {
  "kernelspec": {
   "display_name": "Python 3.10.4 ('env')",
   "language": "python",
   "name": "python3"
  },
  "language_info": {
   "codemirror_mode": {
    "name": "ipython",
    "version": 3
   },
   "file_extension": ".py",
   "mimetype": "text/x-python",
   "name": "python",
   "nbconvert_exporter": "python",
   "pygments_lexer": "ipython3",
   "version": "3.10.4"
  },
  "vscode": {
   "interpreter": {
    "hash": "a39879ae9ccb927afc0cf2ce944a9e89e93d1a75059893b60dcfa8646ca8faf1"
   }
  }
 },
 "nbformat": 4,
 "nbformat_minor": 5
}
